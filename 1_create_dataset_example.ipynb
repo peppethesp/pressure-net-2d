{
 "cells": [
  {
   "cell_type": "markdown",
   "id": "51fa9444",
   "metadata": {},
   "source": [
    "# Create a dataset\n",
    "In this notebook I introduce how to compute a dataset from numpy imported data. Especially tensors with labels.\n"
   ]
  },
  {
   "cell_type": "code",
   "execution_count": null,
   "id": "cc20154c",
   "metadata": {},
   "outputs": [],
   "source": [
    "import numpy as np\n",
    "import tensorflow as tf\n",
    "import matplotlib.pyplot as plt"
   ]
  },
  {
   "cell_type": "markdown",
   "id": "cd860c1a",
   "metadata": {},
   "source": [
    "# Dataset creation\n",
    "in this case we build a robust dataset starting from different smooth pressure layers (so that we generate a feature that is a solution for the problem)\n",
    "with different variabilities"
   ]
  },
  {
   "cell_type": "code",
   "execution_count": null,
   "id": "0f168adb",
   "metadata": {},
   "outputs": [],
   "source": [
    "# Number of elements of the DATASET and size of domain\n",
    "d_size = 1000\n",
    "(N_x, N_y) = (128,128)\n",
    "\n",
    "from importlib import reload\n",
    "import n1_create_dataset.create_dataset\n",
    "reload(n1_create_dataset.create_dataset)\n",
    "from n1_create_dataset.create_dataset import create_dataset_spatial_filtering\n",
    "\n",
    "dataset = create_dataset_spatial_filtering(d_size, N_x, N_y, 10)"
   ]
  },
  {
   "cell_type": "code",
   "execution_count": null,
   "id": "b9bc866f",
   "metadata": {},
   "outputs": [],
   "source": [
    "# Print a sample of the dataset\n",
    "ds1 = dataset.take(9)\n",
    "print(ds1)\n",
    "\n",
    "i=1\n",
    "for (feature, label) in ds1:\n",
    "    plt.subplot(3,3,i)\n",
    "    plt.imshow(feature)\n",
    "    plt.colorbar()\n",
    "    i=i+1\n",
    "\n",
    "ds1 = dataset.take(9)\n",
    "plt.figure()\n",
    "for feature, label in ds1:\n",
    "    plt.hist(feature.numpy().flatten(), bins=100)\n",
    "    print(\"Standard deviation:\\t\", np.std(feature), \"\\tMaximum value:\\t\", np.max(feature))"
   ]
  },
  {
   "cell_type": "markdown",
   "id": "cb680ccc",
   "metadata": {},
   "source": [
    "# Code to create AND save dataset\n",
    "This piece of code creates the dataset by calling its function and saves it. It does it in chunks"
   ]
  },
  {
   "cell_type": "markdown",
   "id": "013af42c",
   "metadata": {},
   "source": [
    "# Save/Load a Dataset on disk"
   ]
  },
  {
   "cell_type": "code",
   "execution_count": null,
   "id": "adffe31a",
   "metadata": {},
   "outputs": [],
   "source": [
    "import n1_create_dataset.execute as ds_save\n",
    "\n",
    "ds_save.execute(d_size=1000, N_x=128, N_y=128, num_chunks=10)"
   ]
  },
  {
   "cell_type": "code",
   "execution_count": null,
   "id": "3c0c7b95",
   "metadata": {},
   "outputs": [],
   "source": [
    "# loading the chunks of dataset from a folder and joining them into a single dataset\n",
    "import os\n",
    "import importlib\n",
    "import myPackageUtils.dataset_utils\n",
    "importlib.reload(myPackageUtils.dataset_utils)\n",
    "\n",
    "from myPackageUtils.dataset_utils import load_dataset\n",
    "\n",
    "dataset_folder = \"saved_data\"\n",
    "path = (os.path.join(os.getcwd(), dataset_folder))\n",
    "dataset = load_dataset(path)\n"
   ]
  }
 ],
 "metadata": {
  "kernelspec": {
   "display_name": "pressure-net-venv",
   "language": "python",
   "name": "python3"
  },
  "language_info": {
   "codemirror_mode": {
    "name": "ipython",
    "version": 3
   },
   "file_extension": ".py",
   "mimetype": "text/x-python",
   "name": "python",
   "nbconvert_exporter": "python",
   "pygments_lexer": "ipython3",
   "version": "3.10.12"
  }
 },
 "nbformat": 4,
 "nbformat_minor": 5
}

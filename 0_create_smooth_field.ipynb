{
 "cells": [
  {
   "cell_type": "markdown",
   "id": "a2fe2022",
   "metadata": {},
   "source": [
    "# create smooth field and smooth incompressible ones"
   ]
  },
  {
   "cell_type": "code",
   "execution_count": null,
   "id": "c81e5fd9",
   "metadata": {},
   "outputs": [],
   "source": [
    "import numpy as np\n",
    "import random\n",
    "import matplotlib.pyplot as plt\n",
    "from gstools import SRF, Gaussian\n",
    "from gstools.field import generator\n",
    "\n",
    "N_x, N_y = 128, 128\n",
    "x = np.arange(N_x)\n",
    "y = np.arange(N_y)\n",
    "\n",
    "model = Gaussian(dim=2, var=1, len_scale=5)\n",
    "srf = SRF(model, seed=20170519)"
   ]
  },
  {
   "cell_type": "code",
   "execution_count": null,
   "id": "860c5040",
   "metadata": {},
   "outputs": [],
   "source": [
    "field = srf.structured([x, y], seed=random.randint(0, 265461530))\n",
    "print(field.shape)\n",
    "plt.imshow(field)\n",
    "plt.colorbar()"
   ]
  }
 ],
 "metadata": {
  "kernelspec": {
   "display_name": "pressure-net-venv",
   "language": "python",
   "name": "python3"
  },
  "language_info": {
   "codemirror_mode": {
    "name": "ipython",
    "version": 3
   },
   "file_extension": ".py",
   "mimetype": "text/x-python",
   "name": "python",
   "nbconvert_exporter": "python",
   "pygments_lexer": "ipython3",
   "version": "3.10.12"
  }
 },
 "nbformat": 4,
 "nbformat_minor": 5
}
